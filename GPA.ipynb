{
 "cells": [
  {
   "cell_type": "code",
   "execution_count": null,
   "metadata": {},
   "outputs": [
    {
     "name": "stdin",
     "output_type": "stream",
     "text": [
      "What is your letter grade? Enter in caps. a\n"
     ]
    },
    {
     "name": "stdout",
     "output_type": "stream",
     "text": [
      "That's not an appropriate letter.\n"
     ]
    },
    {
     "name": "stdin",
     "output_type": "stream",
     "text": [
      "What is your letter grade? Enter in caps. A\n"
     ]
    },
    {
     "name": "stdout",
     "output_type": "stream",
     "text": [
      "Your GPA is a 4.00\n"
     ]
    },
    {
     "name": "stdin",
     "output_type": "stream",
     "text": [
      "What is your letter grade? Enter in caps. 2\n"
     ]
    },
    {
     "name": "stdout",
     "output_type": "stream",
     "text": [
      "That's not an appropriate letter.\n"
     ]
    }
   ],
   "source": [
    "def computeGPA(letterGrade):\n",
    "        try: \n",
    "            letterGrade= str(letterGrade)\n",
    "            letterGrade.upper()\n",
    "            if letterGrade == \"A\":\n",
    "                print(\"Your GPA is a 4.00\")\n",
    "            elif letterGrade == \"B\":\n",
    "                print(\"Your GPA is a 3.00\")\n",
    "            elif letterGrade == \"C\":\n",
    "                print(\"Your GPA is a 2.00\")\n",
    "            elif letterGrade == \"D\":\n",
    "                print(\"Your GPA is a 1.00\")\n",
    "            elif letterGrade == \"F\":\n",
    "                print(\"Your GPA is a 0.\")\n",
    "            else:\n",
    "                print(\"That's not an appropriate letter.\")\n",
    "        except:\n",
    "            print(\"Invalid input\")\n",
    "while True:\n",
    "        letterGrade=input(\"What is your letter grade? Enter in caps.\")\n",
    "        computeGPA(letterGrade)"
   ]
  },
  {
   "cell_type": "code",
   "execution_count": null,
   "metadata": {},
   "outputs": [],
   "source": []
  },
  {
   "cell_type": "code",
   "execution_count": null,
   "metadata": {},
   "outputs": [],
   "source": []
  }
 ],
 "metadata": {
  "kernelspec": {
   "display_name": "Python 3",
   "language": "python",
   "name": "python3"
  },
  "language_info": {
   "codemirror_mode": {
    "name": "ipython",
    "version": 3
   },
   "file_extension": ".py",
   "mimetype": "text/x-python",
   "name": "python",
   "nbconvert_exporter": "python",
   "pygments_lexer": "ipython3",
   "version": "3.8.3"
  }
 },
 "nbformat": 4,
 "nbformat_minor": 4
}
